{
 "cells": [
  {
   "cell_type": "markdown",
   "metadata": {},
   "source": [
    "# Classify the Sentiment - Is the Tweet a Hate Speech ?\n",
    "\n",
    "# Motivation\n",
    "Hate  speech  is  an 