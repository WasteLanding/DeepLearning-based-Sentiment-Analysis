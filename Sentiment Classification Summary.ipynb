{
 "cells": [
  {
   "cell_type": "markdown",
   "metadata": {},
   "source": [
    "# Classify the Sentiment - Is the Tweet a Hate Speech ?\n",
    "\n",
    "# Motivation\n",
    "Hate  speech  is  an  unfortunately  common  occurrence  on  the  Internet.  Often social media sites like Facebook and Twitter face the problem of identifying and censoring  problematic  posts  