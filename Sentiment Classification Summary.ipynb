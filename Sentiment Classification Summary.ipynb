{
 "cells": [
  {
   "cell_type": "markdown",
   "metadata": {},
   "source": [
    "# Classify the Sentiment - Is the Tweet a Hate Speech ?\n",
    "\n",
    "# Motivation\n",
    "Hate  speech  is  an  unfortunately  common  occurrence  on  the  Internet.  Often social media sites like Facebook and Twitter face the problem of identifying and censoring  problematic  posts  while weighing the right to freedom of speech. The  importance  of  detecting  and  moderating hate  speech  is  evident  from  the  strong  connection between hate speech and actual hate crimes. Early identification of users promoting  hate  speech  could  enable  outreach  programs that attempt to prevent an escalation from speech to action. Sites such as Twitter and Facebook have been seeking  to  actively  combat  hate  speech. In spite of these reasons, NLP research on hate speech has been very limited, primarily due to the lack of a general definition of hate speech, an analysis of its demographic influences, and an investigation of the most effective features.\n",
    "\n",
    "### Data\n",
    "#### View of  Good Tweets\n",
    "![Postive  Data Sample](pos_sample.png)\n",
    "#### View of Bad Tweets\n",
    "![Negative  Data Sample](neg_sample.png)\n",
    "The Data has about 7% of Positive sample\n",
    "\n",
    "## Basic Text Pre Processing \n",
    "1. Converting the tweets to lowercase\n",
    "2. Drop Non Alphabets\n",
    "3. Drop URLs\n",
    "4. Drop stop words\n",
    "5. lemmatization of words \n",
    "6. Drop unwanted words to remove noise(user defined words like '@usres','aaaaa','zzz','etc')\n",
    "\n",
    "### Feature Extraction From Text\n",
    "- #### Meta Features\n",
    "    -